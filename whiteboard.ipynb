{
 "cells": [
  {
   "cell_type": "code",
   "execution_count": 3,
   "metadata": {},
   "outputs": [
    {
     "name": "stdout",
     "output_type": "stream",
     "text": [
      "['Senior', 'Open', 'Open', 'Open', 'Open', 'Open', 'Open', 'Open']\n"
     ]
    }
   ],
   "source": [
    "\"\"\"\n",
    "\n",
    "\n",
    "The Western Suburbs Croquet Club has two categories of membership, Senior and Open. They would like your help with an application form that will tell prospective members which category they will be placed.\n",
    "\n",
    "To be a senior, a member must be at least 55 years old and have a handicap greater than 7. In this croquet club, handicaps range from -2 to +26; the better the player the lower the handicap.\n",
    "\n",
    "Input\n",
    "Input will consist of a list of pairs. Each pair contains information for a single potential member. Information consists of an integer for the person's age and an integer for the person's handicap.\n",
    "\n",
    "Output\n",
    "Output will consist of a list of string values (in Haskell and C: Open or Senior) stating whether the respective member is to be placed in the senior or open category.\n",
    "\n",
    "Example\n",
    "input =  [[18, 20], [45, 2], [61, 12], [37, 6], [21, 21], [78, 9]]\n",
    "output = [\"Open\", \"Open\", \"Senior\", \"Open\", \"Open\", \"Senior\"]\n",
    "\n",
    "\n",
    "\n",
    "\n",
    "def club(members):\n",
    "    My_list = []\n",
    "    for member in members:\n",
    "        if member[0] >= 55 and member[1] > 7:\n",
    "            My_list.append(\"Senior\")\n",
    "        else:\n",
    "            My_list.append(\"Open\")\n",
    "    return My_list\n",
    "\n",
    "print(club([[18, 20], [45, 2], [61, 12], [37, 6], [21, 21], [78, 9]]))\n",
    "\n",
    "\"\"\"\n",
    "\n",
    "\n",
    "#############################################EXAMPLE #2 see slack may.15\n",
    "\n",
    "\n",
    "def club(members):\n",
    "    My_list = []\n",
    "    for member in members:\n",
    "        if member[0] >= 55 and member[1] > 7:\n",
    "            My_list.append(\"Senior\")\n",
    "        else:\n",
    "            My_list.append(\"Open\")\n",
    "    return My_list\n",
    "\n",
    "print(club([(66, 14), (34, 3), (14, 23), (20, 7), (78, 0), (33, 7), (48, 24), (36, 3)]))"
   ]
  }
 ],
 "metadata": {
  "kernelspec": {
   "display_name": "Python 3.10.10 64-bit",
   "language": "python",
   "name": "python3"
  },
  "language_info": {
   "codemirror_mode": {
    "name": "ipython",
    "version": 3
   },
   "file_extension": ".py",
   "mimetype": "text/x-python",
   "name": "python",
   "nbconvert_exporter": "python",
   "pygments_lexer": "ipython3",
   "version": "3.10.10"
  },
  "orig_nbformat": 4,
  "vscode": {
   "interpreter": {
    "hash": "aee8b7b246df8f9039afb4144a1f6fd8d2ca17a180786b69acc140d282b71a49"
   }
  }
 },
 "nbformat": 4,
 "nbformat_minor": 2
}
